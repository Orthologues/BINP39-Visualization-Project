{
 "cells": [
  {
   "cell_type": "code",
   "execution_count": 1,
   "metadata": {},
   "outputs": [],
   "source": [
    "#!/usr/local/Caskroom/miniconda/base/bin/python\n",
    "\n",
    "import re\n",
    "import pandas as pd"
   ]
  },
  {
   "cell_type": "code",
   "execution_count": 2,
   "metadata": {},
   "outputs": [
    {
     "name": "stdout",
     "output_type": "stream",
     "text": [
      "Damn1988punisha2345punishaa\n"
     ]
    }
   ],
   "source": [
    "testString = \"Damn1988aa2345Baa\"\n",
    "print(re.sub(\"(?<=\\d{4})[A-Za-z]{1,2}?\", \"punish\", testString))"
   ]
  },
  {
   "cell_type": "code",
   "execution_count": 3,
   "metadata": {},
   "outputs": [
    {
     "name": "stdout",
     "output_type": "stream",
     "text": [
      "Damn1988punish2345punish\n"
     ]
    }
   ],
   "source": [
    "print(re.sub(\"(?<=\\d{4})[A-Za-z]{1,3}\", \"punish\", testString))"
   ]
  },
  {
   "cell_type": "markdown",
   "metadata": {},
   "source": [
    "\"?\" at the end renders non-greedy matching"
   ]
  },
  {
   "cell_type": "code",
   "execution_count": 4,
   "metadata": {},
   "outputs": [
    {
     "name": "stdout",
     "output_type": "stream",
     "text": [
      "missense ['Non-nonsense non-synonymous substitution']\n"
     ]
    }
   ],
   "source": [
    "# Test dataframe in pandas\n",
    "concepts=pd.read_csv(\"../log/concepts.csv\")\n",
    "keylist=[\"methylation\",\"rotamer\",\"PTV\",\"NMD\",\"NMD failure\",\"dN/dS\",\"biallelic\",\"MCC\"]\n",
    "\n",
    "# use list() for conversion\n",
    "result1=list(concepts['explanation'].loc[concepts['word']==\"missense\"])\n",
    "print(\"missense\",result1)"
   ]
  },
  {
   "cell_type": "markdown",
   "metadata": {},
   "source": [
    "if in an IDE such as ATOM, the path of .csv could be 'log/concepts.csv' depending on the project folder"
   ]
  },
  {
   "cell_type": "code",
   "execution_count": 5,
   "metadata": {},
   "outputs": [
    {
     "name": "stdout",
     "output_type": "stream",
     "text": [
      "           word                                        explanation\n",
      "0   methylation                                 a -CH3 group added\n",
      "12          NMD  Nonsense-mediated decay. If elicited, will lea...\n",
      "13  NMD failure  Failure to elicit Nonsense-mediated decay, may...\n",
      "14          PTV                        Protein truncation variants\n",
      "15        dN/dS  the ratio of the number of nonsynonymous subst...\n",
      "17    biallelic  Of or pertaining to both alleles of a single g...\n",
      "18          MCC  Matthews correlation coefficient, MCC=TP*TN-FP...\n",
      "21      rotamer  any of a number of isomers of a molecule which...\n"
     ]
    }
   ],
   "source": [
    "result2=concepts[['word','explanation']].loc[concepts['word'].isin(keylist)]\n",
    "print(result2)"
   ]
  },
  {
   "cell_type": "code",
   "execution_count": 6,
   "metadata": {},
   "outputs": [
    {
     "name": "stdout",
     "output_type": "stream",
     "text": [
      "           word  \\\n",
      "0   methylation   \n",
      "12          NMD   \n",
      "13  NMD failure   \n",
      "14          PTV   \n",
      "15        dN/dS   \n",
      "17    biallelic   \n",
      "18          MCC   \n",
      "21      rotamer   \n",
      "\n",
      "                                                                                                                                              explanation  \n",
      "0                                                                                                                                      a -CH3 group added  \n",
      "12  Nonsense-mediated decay. If elicited, will lead to loss-of-function due to mRNA removal (haplo-insufficiency). Likely to be more detrimental to th...  \n",
      "13                                    Failure to elicit Nonsense-mediated decay, may result in the synthesis of an abnormal prematurely truncated protein  \n",
      "14                                                                                                                            Protein truncation variants  \n",
      "15  the ratio of the number of nonsynonymous substitutions per non-synonymous site (pN, potential non-synonymous mutation sites) to the number of syno...  \n",
      "17  Of or pertaining to both alleles of a single gene (paternal and maternal). For example, biallelic mutation carriers have a mutation (not necessari...  \n",
      "18                                                                    Matthews correlation coefficient, MCC=TP*TN-FP*FN/sqr((TP+FP)(TP+FN)(TN+FP)(TN+FN))  \n",
      "21                      any of a number of isomers of a molecule which can be interconverted by rotation of part of the molecule about a particular bond.  \n"
     ]
    }
   ],
   "source": [
    "# To set a specific maximum on stdout\n",
    "pd.options.display.max_colwidth = 150\n",
    "print(result2)"
   ]
  },
  {
   "cell_type": "code",
   "execution_count": 7,
   "metadata": {},
   "outputs": [
    {
     "name": "stdout",
     "output_type": "stream",
     "text": [
      "           word  \\\n",
      "0   methylation   \n",
      "12          NMD   \n",
      "13  NMD failure   \n",
      "14          PTV   \n",
      "15        dN/dS   \n",
      "17    biallelic   \n",
      "18          MCC   \n",
      "21      rotamer   \n",
      "\n",
      "                                                                                                                                                                                                                                          explanation  \n",
      "0                                                                                                                                                                                                                                  a -CH3 group added  \n",
      "12                                                                     Nonsense-mediated decay. If elicited, will lead to loss-of-function due to mRNA removal (haplo-insufficiency). Likely to be more detrimental to the phenotype than NMD-failure  \n",
      "13                                                                                                                                Failure to elicit Nonsense-mediated decay, may result in the synthesis of an abnormal prematurely truncated protein  \n",
      "14                                                                                                                                                                                                                        Protein truncation variants  \n",
      "15                            the ratio of the number of nonsynonymous substitutions per non-synonymous site (pN, potential non-synonymous mutation sites) to the number of synonymous substitutions per synonymous site (pS), Lower → more conserved  \n",
      "17  Of or pertaining to both alleles of a single gene (paternal and maternal). For example, biallelic mutation carriers have a mutation (not necessarily the same mutation) in both copies of a particular gene (a paternal and a maternal mutation).  \n",
      "18                                                                                                                                                                Matthews correlation coefficient, MCC=TP*TN-FP*FN/sqr((TP+FP)(TP+FN)(TN+FP)(TN+FN))  \n",
      "21                                                                                                                  any of a number of isomers of a molecule which can be interconverted by rotation of part of the molecule about a particular bond.  \n"
     ]
    }
   ],
   "source": [
    "# A more generic solution to deal with problems in widths of printing\n",
    "pd.set_option('display.max_colwidth', None)\n",
    "print(result2)"
   ]
  },
  {
   "cell_type": "code",
   "execution_count": 8,
   "metadata": {},
   "outputs": [
    {
     "name": "stdout",
     "output_type": "stream",
     "text": [
      "3:import re\r\n",
      "4:import pandas as pd\r\n",
      "11:concepts=pd.read_csv(\"log/concepts.csv\")\r\n",
      "22:print(result2)\r\n"
     ]
    }
   ],
   "source": [
    "!grep -ne 'import' -ne 'read.csv' -ne 'print(result2)' test.py"
   ]
  },
  {
   "cell_type": "markdown",
   "metadata": {},
   "source": [
    "In order to use shell in ipython, an exclamation mark has to been pre-claimed"
   ]
  },
  {
   "cell_type": "code",
   "execution_count": 10,
   "metadata": {},
   "outputs": [
    {
     "name": "stdout",
     "output_type": "stream",
     "text": [
      "missense ['Non-nonsense non-synonymous substitution']\r\n",
      "word\texplanation\r\n",
      "methylation\ta -CH3 group added\r\n",
      "NMD\tNonsense-mediated decay. If elicited, will lead to loss-of-function due to mRNA removal (haplo-insufficiency). Likely to be more detrimental to the phenotype than NMD-failure\r\n",
      "NMD failure\tFailure to elicit Nonsense-mediated decay, may result in the synthesis of an abnormal prematurely truncated protein\r\n",
      "PTV\tProtein truncation variants\r\n",
      "dN/dS\tthe ratio of the number of nonsynonymous substitutions per non-synonymous site (pN, potential non-synonymous mutation sites) to the number of synonymous substitutions per synonymous site (pS), Lower → more conserved\r\n",
      "biallelic\tOf or pertaining to both alleles of a single gene (paternal and maternal). For example, biallelic mutation carriers have a mutation (not necessarily the same mutation) in both copies of a particular gene (a paternal and a maternal mutation).\r\n",
      "MCC\tMatthews correlation coefficient, MCC=TP*TN-FP*FN/sqr((TP+FP)(TP+FN)(TN+FP)(TN+FN))\r\n",
      "rotamer\tany of a number of isomers of a molecule which can be interconverted by rotation of part of the molecule about a particular bond.\r\n"
     ]
    }
   ],
   "source": [
    "!gsed -n '3,4p;11,22p' test.py|gsed -r 's/log/..\\/log/'|python|gsed -E 's/^[0-9]*+\\s+//g'|gsed -E 's/\\s+\\s+/\\t/g'"
   ]
  },
  {
   "cell_type": "markdown",
   "metadata": {},
   "source": [
    "To type in a backslash in MacOS, Alt has to be pressed together with '\\'.\n",
    "Use 'sed' instead of 'gsed' in Linux."
   ]
  },
  {
   "cell_type": "code",
   "execution_count": 9,
   "metadata": {},
   "outputs": [
    {
     "name": "stdout",
     "output_type": "stream",
     "text": [
      "He used to love I love Mary      He used to love Mary\n",
      "Er hatte Ich liebe Margot geliebt      Er hatte Margot geliebt\n",
      "El amaba a Te amo Maria      El amaba a Maria\n"
     ]
    }
   ],
   "source": [
    "# Test re.match(pattern,statement).group() method to convert an object into a str\n",
    "statements=(\"I love Mary\",\"Ich liebe Margot\", \"Je t'aime Marie et Cristina\",\"Te amo Maria\")\n",
    "pats = [(\"I love (\\w+)\", \"He used to love {0}\" ),(\"Ich liebe (\\w+)\", \"Er hatte {0} geliebt\" ),\n",
    "        (\"Te amo (\\w+)\", \"El amaba a {0}\")]\n",
    "\n",
    "for statement in statements:\n",
    "    for p1,p2 in pats:\n",
    "        m=re.match(p1,statement)\n",
    "        if m:\n",
    "            print(p2.format(m.group()),\"    \",p2.format(m.group(1)))\n",
    "            break"
   ]
  }
 ],
 "metadata": {
  "kernelspec": {
   "display_name": "Python 3",
   "language": "python",
   "name": "python3"
  },
  "language_info": {
   "codemirror_mode": {
    "name": "ipython",
    "version": 3
   },
   "file_extension": ".py",
   "mimetype": "text/x-python",
   "name": "python",
   "nbconvert_exporter": "python",
   "pygments_lexer": "ipython3",
   "version": "3.8.3"
  }
 },
 "nbformat": 4,
 "nbformat_minor": 4
}
